{
 "cells": [
  {
   "cell_type": "markdown",
   "metadata": {},
   "source": [
    "# **INTRODUCTION TO DEEP LEARNING** <br/>\n",
    "\n",
    "Credits:\n",
    "(Snippets taken from fastai deep learning course, DeepLearning.AI, Elements of statistical learning)"
   ]
  },
  {
   "cell_type": "markdown",
   "metadata": {},
   "source": [
    "## **COMPUTER PROGRAMMING**\n",
    "Given a set of numbers write a program to return maximum or minimum. <br>\n",
    "\n",
    "Given the principal amount, rate of interest, loan duration etc. generate a loan payment schedule <br>\n",
    "\n",
    "From a database table return records matching a search criteria etc.. etc.. <br>\n",
    "\n",
    "Computers mostly solve problems using algorithmic approaches that have been refined over the years. For complex problems you have more sophisticated algorithms like finding the shortest distance between a pair of points, or given your geospatial coordinates search for places of interest in proximity\n",
    "\n",
    "No learning involved here. The programmer knows the steps to solve the problem and writes them in a language the computer understands\n",
    "<br>\n",
    "<br>\n",
    "<br>"
   ]
  },
  {
   "cell_type": "markdown",
   "metadata": {},
   "source": [
    "## **WHAT IS LEARNING**\n",
    "\n",
    "### *How does a child learn to recognize objects around him/her?* <br>\n",
    "### *How does a child learn a language?*\n",
    "### *How do you learn to drive a vehicle?*\n",
    "\n",
    "And many similar tasks that demand a degree of congnition\n",
    "\n",
    "Try solving one of such tasks using computer programs\n",
    "\n",
    "**Write a program to recognize which digits are present in this image?** <br>\n",
    "<img src=\"images/img1.jpg\" style=\"width:400px;height:100px;\">"
   ]
  },
  {
   "cell_type": "markdown",
   "metadata": {},
   "source": [
    "We can split the problem of recognizing handwritten digits into two sub-problems. First, we would like a way of breaking an image containing many digits into a sequence of separate images, each containing a single digit. <br>\n",
    "\n",
    "We humans solve this segmentation problem with ease, but it is challenging for a computer program to correctly break up the\n",
    "image. Once the image has been segmented, the program then needs to classify each individual digit."
   ]
  },
  {
   "cell_type": "markdown",
   "metadata": {},
   "source": [
    "**Whether a tweet is about a disaster event?** <br>\n",
    "\n",
    "<br>\n",
    "<br>\n",
    "\n",
    "<img src=\"images/img2.jpeg\" style=\"width:600px;height:300px;\">\n",
    "\n",
    "**Out of multiple objects in an image which object is what?**\n",
    "\n",
    "<br>\n",
    "<br>\n",
    "<br>"
   ]
  },
  {
   "cell_type": "markdown",
   "metadata": {},
   "source": [
    "## BIOLOGICAL LEARNING SIMULATION VIA NEURAL NETWORKS\n",
    "\n",
    "A biological neural network is composed of a groups of chemically connected or functionally associated neurons. A single neuron may be connected to many other neurons and the total number of neurons and connections in a network may be extensive. Connections, called synapses, are usually formed from axons to dendrites, though dendrodendritic synapses and other connections are possible. \n",
    "\n",
    "There are approximately 100 billion neurons in adult human brain and these have 10e15 connections.\n",
    "<br/>\n",
    "<br/>\n",
    "<br/>\n",
    "<br/>\n",
    "<img src=\"images/img4.png\" style=\"width:400px;height:300px;\">\n",
    "<img src=\"images/img5.jpg\" style=\"width:300px;height:300px;\">\n",
    "\n",
    "<br/>\n",
    "<br/>\n",
    "<br/>\n",
    "<br/>"
   ]
  },
  {
   "cell_type": "markdown",
   "metadata": {},
   "source": [
    "We would like the raw input image to be transformed into gradually higher levels of representation,\n",
    "representing more and more abstract functions of the raw input, e.g., edges, local shapes, object parts\n",
    "\n",
    "<img src=\"images/img6.jpg\" style=\"width:300px;height:400px;\">\n",
    "<img src=\"images/img7.jpg\" style=\"width:500px;height:400px;\">"
   ]
  },
  {
   "cell_type": "markdown",
   "metadata": {},
   "source": [
    "## AI VS MACHINE LEARNING VS DEEP LEARNING\n",
    "\n",
    "<img src=\"images/img3.jpg\" style=\"width:500px;height:500px;\">\n",
    "<br/>\n",
    "<br/>"
   ]
  },
  {
   "cell_type": "markdown",
   "metadata": {},
   "source": [
    "## **Artifical Intelligence**\n",
    "\n",
    "Artificial intelligence is the capability of a computer system to mimic human cognitive functions such as learning and problem-solving. Through AI, a computer system uses math and logic to simulate the reasoning that people use to learn from new information and make decisions.\n",
    "\n",
    "<b> *Kinds of Artifical Intelligence* </b>:\n",
    "\n",
    "**1) Rule based systems**\n",
    "\n",
    "- Constrained set of inputs and outputs which are well defined and known in advance. <br>\n",
    "- Functioning simple enough to be modeled solely based on a set of predetermined rules. <br>\n",
    "- Rules defined by domain experts. <br>\n",
    "- Knowledge based system that doesn't learn, like a human born with limited knowledge. <br>\n",
    "- Rules engines like drools in java, email monitoring system etc. <br>\n",
    "\n",
    "**2) Rational / Problem solving / goal based agents**\n",
    "\n",
    "- Use search strategies to solve a specific problem\n",
    "    - Initial state \n",
    "    - Goal or end state\n",
    "    - Search space (Environment in which search takes place, set of states and operations to change those states)\n",
    "    - Goal test (function to observe current state and whether goal state is achieved)\n",
    "    - Search tree\n",
    "    - Operation or action ( represented by an edge that causes system to change its state) \n",
    "    - Solution (operation sequence that leads from initial to goal state)\n",
    "    - Path cost (each operation has a cost associated)\n",
    "    - Optimal solution (sequence of operations with lowest cost)\n",
    "<br>\n",
    "<br>\n",
    "- Uninformed search \n",
    "    - Depth first search\n",
    "    - Breadth first search\n",
    "    - Greedy search (djikstra)\n",
    "    - Bidirectional search etc.\n",
    "<br>\n",
    "<br>\n",
    "- Informed search ( A* search etc.)    \n",
    "<br>\n",
    "- Adversarial search (games like chess, tic-tac-toe etc.)\n",
    "    - Minimax\n",
    "    - Alpha beta pruning \n",
    "<br/>\n",
    "<br/>\n",
    "\n",
    "**3) Optimization techniques like hill climbing, simulated annealing etc.**\n",
    "<br/>\n",
    "\n",
    "**4) Genetic algorithms**\n",
    "<br/>\n",
    "<br/>\n",
    "*Application: Robotic vacumn cleaners, game playing like chess, sudoku solvers, NQueens problem, vehicle routing, all constraints satisfaction problems*\n",
    "\n",
    "Still relevant depending on use cases but RL is quickly dominating this space\n",
    "<br/>\n",
    "<br/>\n",
    "<br/>"
   ]
  },
  {
   "cell_type": "markdown",
   "metadata": {},
   "source": [
    "## FROM PROGRAMMING COMPUTERS TO MACHINE LEARNING\n",
    "\n",
    "<img src=\"images/img8.jpg\">\n",
    "\n",
    "Instead of telling the computer the exact steps required to solve a problem, show it examples of the problem to solve, and let it figure out how to solve it itself.\n",
    "<br/>\n",
    "\n",
    "<img src=\"images/img9.jpg\">\n",
    "<br/>\n",
    "<br/>\n",
    "<br/>\n",
    "\n",
    "**Inputs** => values that it processes in order to produce its results—for instance, taking image pixels as inputs, and returning the classification \"dog\" as a result \n",
    "<br/>\n",
    "\n",
    "**Weights** => Weights are just variables that act on inputs, and a weight assignment is a particular choice of values for those variables\n",
    "<br/>\n",
    "\n",
    "**Results** => Predictions from the model based on input data and chosen weights\n",
    "\n",
    "**Every weight assignment has some \"actual performance\"**\n",
    "<br/>\n",
    "\n",
    "**There be an \"automatic means\" of testing that performance (Loss or cost function)**\n",
    "<br/>\n",
    "\n",
    "**The need for a \"mechanism\" (i.e., another automatic process) for improving the performance by changing the weight assignments**\n",
    "\n",
    "### Model <br/>\n",
    "Model is a special kind of program: it's one that can do many different things, depending on the weights. \n",
    "<br/>\n",
    "<br/>\n",
    "\n",
    "<img src=\"images/img10.jpg\">\n",
    "<br/>\n",
    "<br/>\n",
    "<br/>\n",
    "<br/>\n",
    "<br/>\n",
    "<br/>"
   ]
  },
  {
   "cell_type": "markdown",
   "metadata": {},
   "source": [
    "## WHAT IS A NEURAL NETWORK\n",
    "\n",
    "A **machine learning model** that is so flexible that it could be used to **solve any given problem**, just by varying its weights. Amazingly enough, this function actually exists! It's the neural network, which we already discussed. That is, if you regard a neural network as a mathematical function, it turns out to be a function which is extremely flexible depending on its weights. A mathematical proof called the **universal approximation theorem** shows that this function can solve any problem to any level of accuracy, in theory. The fact that neural networks are so flexible means that, in practice, they are often a suitable kind of model, and you can focus your effort on the process of training them—that is, of **finding good weight assignments**.\n"
   ]
  },
  {
   "cell_type": "markdown",
   "metadata": {},
   "source": [
    "Breaking down a neural network, the key parts: <br/>\n",
    "\n",
    "1) The input features X and the target variable (feature) y\n",
    "2) One or more hidden layers with one or more hidden units\n",
    "3) Weights and biases corresponding to each unit in each layer\n",
    "4) The activation function\n",
    "5) Forward propogation or feed forward or forward pass\n",
    "6) The loss function\n",
    "7) Backward propogation or backward pass\n",
    "8) Weight updates\n",
    "9) Steps 5 to 8 governed by an underlying optimization algorithm like stochastic gradient descent \n",
    "\n",
    "\n",
    "Walkthrough of implementation of a simple neural network"
   ]
  },
  {
   "cell_type": "markdown",
   "metadata": {},
   "source": [
    "## **Machine Learning (the biggest subset of AI):**\n",
    "Machine learning (ML) is the study of computer algorithms that can improve automatically through experience and by the use of data.It is seen as a part of artificial intelligence. Machine learning algorithms build a model based on sample data, known as training data, in order to make predictions or decisions without being explicitly programmed to do so.\n",
    "\n",
    "A core objective of a learner is to **generalize from its experience**. Generalization in this context is the ability of a learning machine to perform accurately on new, unseen examples/tasks after having experienced a learning data set. The training examples come from some generally unknown probability distribution (considered representative of the space of occurrences) and the learner has to build a general model about this space that enables it to **produce sufficiently accurate predictions in new cases**.\n",
    "\n",
    "Two major paradigms\n",
    "\n",
    "**1) Classical machine learning**\n",
    "<br/>\n",
    "- Closely related to statistics but is different\n",
    "- Statistical learning from data\n",
    "- Pattern recognition\n",
    "- Generalize from experience \n",
    "- Interpretable by humans\n",
    "- Optimization at its heart\n",
    "- Statistical / probabilistic techniques\n",
    "<br/>\n",
    "<br/>\n",
    "\n",
    "**2) Deep learning via artifical neural networks**\n",
    "\n",
    "<br/>\n",
    "<br/>"
   ]
  },
  {
   "cell_type": "markdown",
   "metadata": {},
   "source": [
    "## Major types of machine learning problems\n",
    "###  Regression vs Classification \n",
    "\n",
    "Regression -> Target variable is continuous <br/>\n",
    "Classfication -> Target variable is categorical\n",
    "\n",
    "<br/>\n",
    "<br/>\n"
   ]
  },
  {
   "cell_type": "markdown",
   "metadata": {},
   "source": [
    "## Supervised vs Unsupervised learning\n",
    "\n",
    "**1) Supervised learning-- Labeled data** <br/>\n",
    "\n",
    " Algorithms / approaches    \n",
    "\n",
    "    - Linear Regression\n",
    "    - Logistic Regression\n",
    "    - Decision Trees\n",
    "    - Boosted trees\n",
    "    - Random forests\n",
    "    - Gradient boosting machines (XGB, Light GBM, CatBoost)\n",
    "    - Support vector machines\n",
    "    - Probailistic techniques like Naive Bayes\n",
    "    - PCA / SVD\n",
    "    \n",
    "Mathematical concepts like statistics, probability, linear algebra, calculus    \n",
    "\n",
    "**Unsupervised - No labeled data**<br/>\n",
    "Clustering like google news, communities in social graphs\n",
    "\n",
    "Majority use cases are supervised\n",
    "<br/>\n",
    "<br/>"
   ]
  },
  {
   "cell_type": "markdown",
   "metadata": {},
   "source": [
    "## **Machine learning vs Deep learning**\n",
    "\n",
    "Classical ML algorithms don't improve beyond a point with increasing data.<br/>\n",
    "Deep learning has no such limits <br/>\n",
    "<br/>\n",
    "Classical machine learning => Tabular data (structured) <br/>\n",
    "Deep learning techniques => Unstructured data ( image, video, text, audio )\n",
    "<br/>\n",
    "<br/>\n",
    "<br/>\n",
    "<img src=\"images/img11.jpg\" style=\"width:800px;height:500px;\">\n",
    "<br/>\n",
    "\n",
    " So what made deep neural networks work in the past decade <br/>\n",
    "\n",
    " *Exponential increase in both compute (GPU computing) and data*\n",
    "\n",
    "History of AlexNet and ImageNet classification challenge and how deep learning took off in a big way since 2012"
   ]
  },
  {
   "cell_type": "markdown",
   "metadata": {},
   "source": [
    "Fields in deep learning\n",
    "\n",
    "ComputerVision ->\n",
    "CNNs\n",
    "ImageClassification\n",
    "ObjectDetection\n",
    "FaceRecognition\n",
    "\n",
    "Use cases\n",
    "\n",
    "\n",
    "NLP ->\n",
    "SequenceModels, LSTMs, GRUs, \n",
    "Language models --> GPT3, Turing NLG\n",
    "Chatbots, text generation, question answering, text summarization\n",
    "Machine translation --> Google translate\n",
    "SpeechRecognition -> Alexa, google assistant"
   ]
  },
  {
   "cell_type": "markdown",
   "metadata": {},
   "source": [
    "Use of GPUs in deep learning"
   ]
  },
  {
   "cell_type": "markdown",
   "metadata": {},
   "source": [
    "Programming languages:\n",
    "Python / R / Julia\n",
    "\n",
    "Machine learning frameworks\n",
    "Numpy, pandas, matplotlib, scikit-learn\n",
    "\n",
    "Deep learning frameworks\n",
    "\n",
    "Pytorch , Pytorch lightning, fastai\n",
    "Tensorflow, keras\n"
   ]
  },
  {
   "cell_type": "markdown",
   "metadata": {},
   "source": [
    "Transfer learning\n",
    "\n",
    "Inference on edge devices\n",
    "\n",
    "Google coral / Pixel TPU"
   ]
  },
  {
   "cell_type": "markdown",
   "metadata": {},
   "source": [
    "Bias in ML algorithms\n",
    "Ethics\n",
    "DeepFakes"
   ]
  },
  {
   "cell_type": "markdown",
   "metadata": {},
   "source": [
    "Skills required:\n",
    "\n",
    "Curiosity / exploratory nature\n",
    "Love for data\n",
    "Mathematics/Statistics, \n",
    "coding, \n",
    "domain expertise\n",
    "\n",
    "Multi year journey\n",
    "\n",
    "Rapidly evolving field\n",
    "\n",
    "Need to be on the cutting edge, research papers."
   ]
  }
 ],
 "metadata": {
  "interpreter": {
   "hash": "0197751694b00855cd01780d565fa2e16f7945f624c4146f8d6aac863c2ba178"
  },
  "kernelspec": {
   "display_name": "Python 3.9.7 64-bit ('fastai': conda)",
   "language": "python",
   "name": "python3"
  },
  "language_info": {
   "codemirror_mode": {
    "name": "ipython",
    "version": 3
   },
   "file_extension": ".py",
   "mimetype": "text/x-python",
   "name": "python",
   "nbconvert_exporter": "python",
   "pygments_lexer": "ipython3",
   "version": "3.9.7"
  },
  "orig_nbformat": 4
 },
 "nbformat": 4,
 "nbformat_minor": 2
}
