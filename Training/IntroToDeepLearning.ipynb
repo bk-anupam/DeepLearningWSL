{
 "cells": [
  {
   "cell_type": "markdown",
   "metadata": {},
   "source": [
    "# **INTRODUCTION TO DEEP LEARNING**"
   ]
  },
  {
   "cell_type": "markdown",
   "metadata": {},
   "source": [
    "## **COMPUTER PROGRAMMING**\n",
    "Given a set of numbers write a program to return maximum or minimum. <br>\n",
    "\n",
    "Given the principal amount, rate of interest, loan duration etc. generate a loan payment schedule <br>\n",
    "\n",
    "From a database table return records matching a search criteria etc.. etc.. <br>\n",
    "\n",
    "Computers mostly solve problems using algorithmic approaches that have been refined over the years. For complex problems you have more sophisticated algorithms like finding the shortest distance between a pair of points, or given your geospatial coordinates search for places of interest in proximity\n",
    "\n",
    "No learning involved here. The programmer knows the steps to solve the problem and writes them in a language the computer understands"
   ]
  },
  {
   "cell_type": "markdown",
   "metadata": {},
   "source": [
    "## **WHAT IS LEARNING**\n",
    "\n",
    "### *How does a child learn to recognize objects around him/her?* <br>\n",
    "### *How does a child learn a language?*\n",
    "### *How do you learn to drive a vehicle?*\n",
    "\n",
    "And many similar tasks that demand a degree of congnition\n",
    "\n",
    "Try solving one of such tasks using computer programs\n",
    "\n",
    "**Write a program to recognize which digits are present in this image?** <br>\n",
    "<img src=\"images/img1.jpg\" style=\"width:400px;height:100px;\">"
   ]
  },
  {
   "cell_type": "markdown",
   "metadata": {},
   "source": [
    "We can split the problem of recognizing handwritten digits into two sub-problems. First, we would like a way of breaking an image containing many digits into a sequence of separate images, each containing a single digit. <br>\n",
    "\n",
    "We humans solve this segmentation problem with ease, but it is challenging for a computer program to correctly break up the\n",
    "image. Once the image has been segmented, the program then needs to classify each individual digit.\n"
   ]
  },
  {
   "cell_type": "markdown",
   "metadata": {},
   "source": [
    "**Whether a tweet is about a disaster event?** <br>\n",
    "\n",
    "<br>\n",
    "<br>\n",
    "\n",
    "<img src=\"images/img2.jpeg\" style=\"width:600px;height:300px;\">\n",
    "\n",
    "**Out of multiple objects in an image which object is what?**"
   ]
  },
  {
   "cell_type": "markdown",
   "metadata": {},
   "source": [
    "## BIOLOGICAL LEARNING"
   ]
  },
  {
   "cell_type": "markdown",
   "metadata": {},
   "source": [
    "## AI VS MACHINE LEARNING VS DEEP LEARNING\n",
    "\n",
    "<img src=\"images/img3.jpg\" style=\"width:500px;height:500px;\">"
   ]
  },
  {
   "cell_type": "markdown",
   "metadata": {},
   "source": [
    "## **Artifical Intelligence**\n",
    "\n",
    "Artificial intelligence is the capability of a computer system to mimic human cognitive functions such as learning and problem-solving. Through AI, a computer system uses math and logic to simulate the reasoning that people use to learn from new information and make decisions.\n",
    "\n",
    "Application of Artifical Intelligence:\n",
    "1) Rule based systems \n",
    "2) Search algorithms ( Uninformed / Informed Search)\n",
    "https://www.javatpoint.com/search-algorithms-in-ai\n"
   ]
  },
  {
   "cell_type": "markdown",
   "metadata": {},
   "source": [
    "Machine Learning:\n",
    "Statistical learning from data\n",
    "\n",
    "Regression vs Classification ( by means of an example)\n",
    "\n",
    "Supervised vs Unsupervised learning\n",
    "\n",
    "Types of machine learning algorithms\n",
    "Supervised:\n",
    "1) LinearRegression\n",
    "2) Logistic Regression\n",
    "3) DecisionTrees\n",
    "4) RandomForests\n",
    "5) Gradient boosting\n",
    "6) PCA / SVD\n",
    "7) KNN\n",
    "\n",
    "Unsupervised\n",
    "1) KMeans\n",
    "2) "
   ]
  },
  {
   "cell_type": "markdown",
   "metadata": {},
   "source": [
    "Machine learning vs Deep learning\n",
    "\n",
    "How ML algorithms don't improve with increasing data\n",
    "\n",
    "What made deep neural networks work in the past decade\n",
    "\n",
    "History of AlexNet and ImageNet classification challenge and how deep learning took off in a big way since 2012"
   ]
  },
  {
   "cell_type": "markdown",
   "metadata": {},
   "source": [
    "Deep Learning:\n",
    "NeuralNetworks\n",
    "History of neural networks\n",
    "Universal approximation theorem\n",
    "The process of learning using CNN example, how simple features are learnt first\n",
    "Learning increasingly complex features through layers"
   ]
  },
  {
   "cell_type": "markdown",
   "metadata": {},
   "source": [
    "Mathematics in ML / DL:\n",
    "\n",
    "1) Matrix operations and linear algebra\n",
    "2) Calculus in backpropogation\n",
    "3) Probability\n",
    "4) Statistics\n",
    "\n",
    "Through a simple code example:\n",
    "\n",
    "Objective/Cost function and optimization\n",
    "Brief overview of forward pass and backpropagation"
   ]
  },
  {
   "cell_type": "markdown",
   "metadata": {},
   "source": [
    "Fields in deep learning\n",
    "\n",
    "ComputerVision ->\n",
    "CNNs\n",
    "ImageClassification\n",
    "ObjectDetection\n",
    "FaceRecognition\n",
    "\n",
    "Use cases\n",
    "\n",
    "\n",
    "NLP ->\n",
    "SequenceModels, LSTMs, GRUs, \n",
    "Language models --> GPT3, Turing NLG\n",
    "Chatbots, text generation, question answering, text summarization\n",
    "Machine translation --> Google translate\n",
    "SpeechRecognition -> Alexa, google assistant"
   ]
  },
  {
   "cell_type": "markdown",
   "metadata": {},
   "source": [
    "Use of GPUs in deep learning"
   ]
  },
  {
   "cell_type": "markdown",
   "metadata": {},
   "source": [
    "Programming languages:\n",
    "Python / R / Julia\n",
    "\n",
    "Machine learning frameworks\n",
    "Numpy, pandas, matplotlib, scikit-learn\n",
    "\n",
    "Deep learning frameworks\n",
    "\n",
    "Pytorch , Pytorch lightning, fastai\n",
    "Tensorflow, keras\n"
   ]
  },
  {
   "cell_type": "markdown",
   "metadata": {},
   "source": [
    "Transfer learning\n",
    "\n",
    "Inference on edge devices\n",
    "\n",
    "Google coral / Pixel TPU"
   ]
  },
  {
   "cell_type": "markdown",
   "metadata": {},
   "source": [
    "Bias in ML algorithms\n",
    "Ethics\n",
    "DeepFakes"
   ]
  },
  {
   "cell_type": "markdown",
   "metadata": {},
   "source": [
    "Skills required:\n",
    "\n",
    "Curiosity / exploratory nature\n",
    "Love for data\n",
    "Mathematics/Statistics, \n",
    "coding, \n",
    "domain expertise\n",
    "\n",
    "Multi year journey\n",
    "\n",
    "Rapidly evolving field\n",
    "\n",
    "Need to be on the cutting edge, research papers."
   ]
  }
 ],
 "metadata": {
  "interpreter": {
   "hash": "0197751694b00855cd01780d565fa2e16f7945f624c4146f8d6aac863c2ba178"
  },
  "kernelspec": {
   "display_name": "Python 3.9.7 64-bit ('fastai': conda)",
   "language": "python",
   "name": "python3"
  },
  "language_info": {
   "codemirror_mode": {
    "name": "ipython",
    "version": 3
   },
   "file_extension": ".py",
   "mimetype": "text/x-python",
   "name": "python",
   "nbconvert_exporter": "python",
   "pygments_lexer": "ipython3",
   "version": "3.9.7"
  },
  "orig_nbformat": 4
 },
 "nbformat": 4,
 "nbformat_minor": 2
}
