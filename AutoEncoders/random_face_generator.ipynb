{
 "cells": [
  {
   "cell_type": "code",
   "execution_count": 1,
   "metadata": {},
   "outputs": [],
   "source": [
    "import matplotlib.pyplot as plt\n",
    "import pandas as pd\n",
    "import random\n",
    "import numpy as np\n",
    "import torch\n",
    "import torch.nn as nn\n",
    "import torch.nn.functional as F\n",
    "import torch.optim as optim\n",
    "from torchvision.transforms import ToPILImage\n",
    "import torch.multiprocessing as mp\n",
    "import wandb\n",
    "import imageio\n",
    "import cv2\n",
    "import gradio as gr\n",
    "import pytorch_lightning as pl\n",
    "from tqdm import tqdm\n",
    "from PIL import Image\n",
    "from sklearn.model_selection import train_test_split\n",
    "import os"
   ]
  },
  {
   "cell_type": "code",
   "execution_count": 2,
   "metadata": {},
   "outputs": [],
   "source": [
    "class Config:\n",
    "    RUNTIME = \"KAGGLE\"\n",
    "    SUBSET_FRACTION = None\n",
    "    NUM_EPOCHS = 30\n",
    "    BATCH_SIZE = 64\n",
    "    PRECISION = \"16-mixed\"\n",
    "    LOG_EVERY_N_STEPS = 10\n",
    "    INPUT_IMAGE_SIZE = (45, 45)    \n",
    "    DIM_Z = 100\n",
    "    NUM_WORKERS = mp.cpu_count()\n",
    "    EARLY_STOPPING_PATIENCE = 6  # Add this line for early stopping patience\n",
    "    DEVICE = torch.device(\"cuda\" if torch.cuda.is_available() else \"cpu\")\n",
    "\n",
    "class SchedulerConfig:\n",
    "    # for ReduceLROnPlateau (number of epochs with no improvement after which the learning rate will be reduced)\n",
    "    SCHEDULER_PATIENCE = 5  \n",
    "    # for ReduceLROnPlateau (factor by which the learning rate will be reduced)\n",
    "    FACTOR = 0.5 \n",
    "    SCHEDULER = \"ReduceLROnPlateau\"\n",
    "    T_0 = 10 # for CosineAnnealingWarmRestarts (Number of epochs before the first restart)\n",
    "    MIN_LR = 5e-7 # for CosineAnnealingWarmRestarts (Minimum learning rate)\n",
    "    T_mult = 1 # for CosineAnnealingWarmRestarts (Factor by which Ti(number of epochs between two restarts) increases)\n",
    "    MAX_LR = 1e-3 # for CosineAnnealing (Initial learning rate)\n",
    "    STEPS_PER_EPOCH = 13 # for OneCycleLR\n",
    "    STEP_SIZE = 10 # for StepLR\n",
    "    GAMMA = 0.5 # for StepLR"
   ]
  },
  {
   "cell_type": "code",
   "execution_count": 3,
   "metadata": {},
   "outputs": [],
   "source": [
    "class VAENetwork(nn.Module):\n",
    "    def __init__(self, dim_z):\n",
    "        super().__init__()\n",
    "        self.dim_z = dim_z\n",
    "        self.encoder = nn.Sequential(\n",
    "            nn.Linear(45*45*3, 1500),\n",
    "            nn.BatchNorm1d(1500),\n",
    "            nn.ReLU(),\n",
    "            nn.Linear(1500, 1000),\n",
    "            nn.BatchNorm1d(1000),\n",
    "            nn.ReLU(),\n",
    "            nn.Linear(1000, dim_z * 2),  # Output mean and log variance\n",
    "        )\n",
    "        self.decoder = nn.Sequential(\n",
    "            nn.Linear(dim_z, 1000),\n",
    "            nn.BatchNorm1d(1000),\n",
    "            nn.ReLU(),\n",
    "            nn.Linear(1000, 1500),\n",
    "            nn.BatchNorm1d(1500),\n",
    "            nn.ReLU(),\n",
    "            nn.Linear(1500, 45*45*3)\n",
    "        )\n",
    "\n",
    "    def encode(self, x):\n",
    "        x = x.view(-1, 45*45*3)\n",
    "        mu_logvar = self.encoder(x)\n",
    "        mu, logvar = mu_logvar[:, :self.dim_z], mu_logvar[:, self.dim_z:]  # Split into mean and log variance\n",
    "        return mu, logvar\n",
    "    \n",
    "    def reparameterize(self, mu, logvar):\n",
    "        std = torch.exp(0.5 * logvar)  # Calculate standard deviation\n",
    "        eps = torch.randn_like(std)  # Sample from standard normal\n",
    "        return mu + eps * std  # Reparameterization trick\n",
    "    \n",
    "    def decode(self, z):\n",
    "        decoded = self.decoder(z)\n",
    "        decoded = decoded.view(-1, 3, 45, 45)\n",
    "        return decoded\n",
    "    \n",
    "    def forward(self, x):        \n",
    "        mu, logvar = self.encode(x) \n",
    "        z = self.reparameterize(mu, logvar)  # Sample from the latent space\n",
    "        decoded = self.decode(z)        \n",
    "        return decoded, mu, logvar  # Return decoded output, mean, and log variance"
   ]
  },
  {
   "cell_type": "code",
   "execution_count": 4,
   "metadata": {},
   "outputs": [],
   "source": [
    "# Loss function\n",
    "def vae_loss(recon_x, x, mu, logvar):\n",
    "    BCE = F.binary_cross_entropy_with_logits(recon_x, x, reduction='sum')\n",
    "    KLD = -0.5 * torch.sum(1 + logvar - mu.pow(2) - logvar.exp())\n",
    "    return BCE + KLD"
   ]
  },
  {
   "cell_type": "code",
   "execution_count": 5,
   "metadata": {},
   "outputs": [],
   "source": [
    "class VAE(pl.LightningModule):\n",
    "    def __init__(self, config, scheduler_config):\n",
    "        super(VAE, self).__init__()\n",
    "        self.config = config\n",
    "        self.scheduler_config = scheduler_config\n",
    "        self.network = VAENetwork(config.DIM_Z)\n",
    "\n",
    "    def forward(self, x):\n",
    "        return self.network(x)\n",
    "\n",
    "    def training_step(self, batch, batch_idx):\n",
    "        inputs = batch\n",
    "        outputs, mu, logvar = self(inputs)\n",
    "        loss = vae_loss(outputs, inputs, mu, logvar)\n",
    "        self.log('train_loss', loss, on_epoch=True, logger=True, prog_bar=True)\n",
    "        return loss\n",
    "\n",
    "    def validation_step(self, batch, batch_idx):\n",
    "        inputs = batch\n",
    "        outputs, mu, logvar = self(inputs)\n",
    "        loss = vae_loss(outputs, inputs, mu, logvar)\n",
    "        mse = vae_loss(outputs, inputs, mu, logvar)\n",
    "        current_lr = self.trainer.optimizers[0].param_groups[0]['lr']\n",
    "        self.log('val_loss', loss, on_epoch=True, logger=True, prog_bar=True)\n",
    "        self.log('val_mse', mse, on_epoch=True, logger=True, prog_bar=True)\n",
    "        self.log('cur_lr', current_lr, prog_bar=True, on_epoch=True, logger=True)\n",
    "        return {'val_loss': loss, 'inputs': inputs, 'outputs': outputs}\n",
    "\n",
    "    def configure_optimizers(self):\n",
    "        optimizer = optim.Adam(self.parameters(), lr=self.scheduler_config.MAX_LR)\n",
    "        scheduler = torch.optim.lr_scheduler.StepLR(\n",
    "            optimizer, \n",
    "            step_size=self.scheduler_config.STEP_SIZE, \n",
    "            gamma=self.scheduler_config.GAMMA\n",
    "        )\n",
    "        return [optimizer], [scheduler]"
   ]
  },
  {
   "cell_type": "code",
   "execution_count": 6,
   "metadata": {},
   "outputs": [],
   "source": [
    "# # Load model state dictionary\n",
    "# state_dict = torch.load('./data/vae_faces.ckpt', map_location='cuda:0')\n",
    "# # Create model instance with same architecture\n",
    "# model = VAE(Config, SchedulerConfig)\n",
    "# model.load_state_dict(state_dict['state_dict'])\n",
    "# model.eval()"
   ]
  },
  {
   "cell_type": "code",
   "execution_count": 7,
   "metadata": {},
   "outputs": [
    {
     "data": {
      "text/plain": [
       "VAENetwork(\n",
       "  (encoder): Sequential(\n",
       "    (0): Linear(in_features=6075, out_features=1500, bias=True)\n",
       "    (1): BatchNorm1d(1500, eps=1e-05, momentum=0.1, affine=True, track_running_stats=True)\n",
       "    (2): ReLU()\n",
       "    (3): Linear(in_features=1500, out_features=1000, bias=True)\n",
       "    (4): BatchNorm1d(1000, eps=1e-05, momentum=0.1, affine=True, track_running_stats=True)\n",
       "    (5): ReLU()\n",
       "    (6): Linear(in_features=1000, out_features=200, bias=True)\n",
       "  )\n",
       "  (decoder): Sequential(\n",
       "    (0): Linear(in_features=100, out_features=1000, bias=True)\n",
       "    (1): BatchNorm1d(1000, eps=1e-05, momentum=0.1, affine=True, track_running_stats=True)\n",
       "    (2): ReLU()\n",
       "    (3): Linear(in_features=1000, out_features=1500, bias=True)\n",
       "    (4): BatchNorm1d(1500, eps=1e-05, momentum=0.1, affine=True, track_running_stats=True)\n",
       "    (5): ReLU()\n",
       "    (6): Linear(in_features=1500, out_features=6075, bias=True)\n",
       "  )\n",
       ")"
      ]
     },
     "execution_count": 7,
     "metadata": {},
     "output_type": "execute_result"
    }
   ],
   "source": [
    "model = VAENetwork(Config.DIM_Z)\n",
    "model_checkpoint = torch.load(\"./data/VAE.pth\", weights_only=True)\n",
    "model.load_state_dict(model_checkpoint)\n",
    "model.eval()"
   ]
  },
  {
   "cell_type": "code",
   "execution_count": 8,
   "metadata": {},
   "outputs": [
    {
     "data": {
      "text/plain": [
       "tensor([[[[-0.5045, -0.5252, -0.5734,  ..., -0.3169, -0.3930, -0.4296],\n",
       "          [-0.5146, -0.5285, -0.5498,  ..., -0.3417, -0.4292, -0.4874],\n",
       "          [-0.5391, -0.5977, -0.5628,  ..., -0.3271, -0.4203, -0.5164],\n",
       "          ...,\n",
       "          [-0.8065, -0.9052, -0.9827,  ..., -0.6038, -0.5783, -0.6416],\n",
       "          [-0.7368, -0.8381, -0.9632,  ..., -0.6755, -0.6765, -0.7052],\n",
       "          [-0.7045, -0.8334, -0.8724,  ..., -0.6544, -0.6722, -0.6982]],\n",
       "\n",
       "         [[-0.6366, -0.7748, -0.8362,  ..., -0.9660, -1.0369, -1.0395],\n",
       "          [-0.7011, -0.7386, -0.8565,  ..., -1.0106, -1.0666, -1.0728],\n",
       "          [-0.7738, -0.8276, -0.8491,  ..., -1.0289, -1.0702, -1.1504],\n",
       "          ...,\n",
       "          [-0.9063, -0.9627, -1.1128,  ..., -1.2290, -1.2192, -1.2029],\n",
       "          [-0.8079, -0.9453, -1.0888,  ..., -1.2891, -1.2496, -1.2048],\n",
       "          [-0.7922, -0.8571, -0.9804,  ..., -1.3130, -1.2878, -1.2209]],\n",
       "\n",
       "         [[-1.1191, -1.2157, -1.3470,  ..., -1.8038, -1.7808, -1.7715],\n",
       "          [-1.1224, -1.2644, -1.3749,  ..., -1.8704, -1.8428, -1.8063],\n",
       "          [-1.1987, -1.3183, -1.4437,  ..., -1.8760, -1.9300, -1.8808],\n",
       "          ...,\n",
       "          [-1.0598, -1.1728, -1.3034,  ..., -1.9823, -1.9341, -1.8831],\n",
       "          [-0.9449, -1.1283, -1.2165,  ..., -2.0140, -1.9213, -1.8257],\n",
       "          [-0.8894, -1.0224, -1.1648,  ..., -2.0549, -1.9682, -1.8990]]]])"
      ]
     },
     "execution_count": 8,
     "metadata": {},
     "output_type": "execute_result"
    }
   ],
   "source": [
    "latent_vectors = torch.randn(1, Config.DIM_Z)\n",
    "with torch.no_grad():\n",
    "    decoded_images = model.decode(latent_vectors)\n",
    "decoded_images"
   ]
  },
  {
   "cell_type": "code",
   "execution_count": 9,
   "metadata": {},
   "outputs": [
    {
     "name": "stdout",
     "output_type": "stream",
     "text": [
      "tensor(0.8900) tensor(-2.2478)\n"
     ]
    }
   ],
   "source": [
    "# get the max and min values of the decoded image\n",
    "decoded_image = decoded_images.squeeze(0)\n",
    "decoded_image_max = decoded_image.max()\n",
    "decoded_image_min = decoded_image.min()\n",
    "print(decoded_image_max, decoded_image_min)"
   ]
  },
  {
   "cell_type": "code",
   "execution_count": 13,
   "metadata": {},
   "outputs": [
    {
     "data": {
      "image/jpeg": "[encoded data removed]",
      "image/png": "[encoded data removed]",
      "text/plain": [
       "<PIL.Image.Image image mode=RGB size=45x45>"
      ]
     },
     "metadata": {},
     "output_type": "display_data"
    }
   ],
   "source": [
    "decoded_image = decoded_images.squeeze(0)\n",
    "decoded_image = decoded_image.view(45, 45, 3).detach().numpy()\n",
    "decoded_image = (decoded_image - decoded_image.min()) / (decoded_image.max() - decoded_image.min())\n",
    "decoded_image = (decoded_image * 255).astype(np.uint8)\n",
    "decoded_image = Image.fromarray(decoded_image)\n",
    "decoded_image.show()"
   ]
  },
  {
   "cell_type": "code",
   "execution_count": 17,
   "metadata": {},
   "outputs": [
    {
     "name": "stderr",
     "output_type": "stream",
     "text": [
      "Clipping input data to the valid range for imshow with RGB data ([0..1] for floats or [0..255] for integers). Got range [-2.247803..0.889975].\n"
     ]
    },
    {
     "data": {
      "image/png": "[encoded data removed]",
      "text/plain": [
       "<Figure size 200x200 with 1 Axes>"
      ]
     },
     "metadata": {},
     "output_type": "display_data"
    }
   ],
   "source": [
    "fig, ax = plt.subplots(figsize=(2,2))\n",
    "ax.imshow(decoded_images[0].permute(1, 2, 0).cpu().detach().numpy())\n",
    "# ax.imshow(decoded_image)\n",
    "ax.axis('off')\n",
    "#plt.tight_layout()\n",
    "plt.show()"
   ]
  },
  {
   "cell_type": "code",
   "execution_count": 148,
   "metadata": {},
   "outputs": [],
   "source": [
    "# cv2.imshow(\"Decoded Image\", decoded_image)\n",
    "# cv2.waitKey(0)\n",
    "# cv2.destroyAllWindows()"
   ]
  },
  {
   "cell_type": "code",
   "execution_count": 32,
   "metadata": {},
   "outputs": [],
   "source": [
    "# Define a function to generate a random face\n",
    "def generate_random_face():\n",
    "    model.eval()\n",
    "    with torch.no_grad():\n",
    "        # Sample a random latent vector\n",
    "        z = torch.randn(1, Config.DIM_Z)  # Assuming latent dimension of 100\n",
    "        generated_image = model.decode(z)\n",
    "        generated_image = generated_image.squeeze(0)        \n",
    "        # Convert the output tensor (image) to PIL format for display\n",
    "        image = generated_image.permute(1, 2, 0).detach().cpu().numpy()\n",
    "        image = (image - image.min()) / (image.max() - image.min())\n",
    "        # resize the image to 45x45\n",
    "        image = cv2.resize(image, (90, 90))\n",
    "        return image"
   ]
  },
  {
   "cell_type": "code",
   "execution_count": 52,
   "metadata": {},
   "outputs": [
    {
     "data": {
      "image/png": "[encoded data removed]",
      "text/plain": [
       "<Figure size 200x200 with 1 Axes>"
      ]
     },
     "metadata": {},
     "output_type": "display_data"
    }
   ],
   "source": [
    "random_image = generate_random_face()\n",
    "fig, ax = plt.subplots(figsize=(2,2))\n",
    "ax.imshow(random_image)\n",
    "ax.axis('off')\n",
    "plt.show()"
   ]
  },
  {
   "cell_type": "code",
   "execution_count": 55,
   "metadata": {},
   "outputs": [
    {
     "name": "stdout",
     "output_type": "stream",
     "text": [
      "* Running on local URL:  http://127.0.0.1:7861\n",
      "\n",
      "To create a public link, set `share=True` in `launch()`.\n"
     ]
    },
    {
     "data": {
      "text/html": [
       "<div><iframe src=\"http://127.0.0.1:7861/\" width=\"100%\" height=\"500\" allow=\"autoplay; camera; microphone; clipboard-read; clipboard-write;\" frameborder=\"0\" allowfullscreen></iframe></div>"
      ],
      "text/plain": [
       "<IPython.core.display.HTML object>"
      ]
     },
     "metadata": {},
     "output_type": "display_data"
    },
    {
     "data": {
      "text/plain": []
     },
     "execution_count": 55,
     "metadata": {},
     "output_type": "execute_result"
    }
   ],
   "source": [
    "# Create a Gradio interface\n",
    "iface = gr.Interface(\n",
    "    fn=generate_random_face,  # The function to call\n",
    "    inputs=None,  # No inputs, just generates random images\n",
    "    # outputs=\"image\",  # Output is an image\n",
    "    outputs=gr.Image(height=250, width=250),\n",
    "    title=\"VAE Random Face Generator\",\n",
    "    description=\"Generates random faces using a trained Variational Autoencoder (VAE).\"\n",
    ")\n",
    "\n",
    "# Launch the Gradio interface\n",
    "iface.launch(inline=True)"
   ]
  }
 ],
 "metadata": {
  "kernelspec": {
   "display_name": "ml_env",
   "language": "python",
   "name": "python3"
  },
  "language_info": {
   "codemirror_mode": {
    "name": "ipython",
    "version": 3
   },
   "file_extension": ".py",
   "mimetype": "text/x-python",
   "name": "python",
   "nbconvert_exporter": "python",
   "pygments_lexer": "ipython3",
   "version": "3.11.9"
  }
 },
 "nbformat": 4,
 "nbformat_minor": 2
}
